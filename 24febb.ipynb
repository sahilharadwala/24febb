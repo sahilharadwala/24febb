{
 "cells": [
  {
   "cell_type": "code",
   "execution_count": 2,
   "id": "7ca85491-3fe3-4da4-a168-af1ca45a50d6",
   "metadata": {},
   "outputs": [
    {
     "name": "stdout",
     "output_type": "stream",
     "text": [
      "      Name  Age         City\n",
      "0    Alice   25     New York\n",
      "1      Bob   30  Los Angeles\n",
      "2  Charlie   35      Chicago\n"
     ]
    },
    {
     "ename": "TypeError",
     "evalue": "read_csv() missing 1 required positional argument: 'filepath_or_buffer'",
     "output_type": "error",
     "traceback": [
      "\u001b[1;31m---------------------------------------------------------------------------\u001b[0m",
      "\u001b[1;31mTypeError\u001b[0m                                 Traceback (most recent call last)",
      "Cell \u001b[1;32mIn[2], line 14\u001b[0m\n\u001b[0;32m     12\u001b[0m pd\u001b[38;5;241m.\u001b[39misna(df)\n\u001b[0;32m     13\u001b[0m pd\u001b[38;5;241m.\u001b[39misna(df)\u001b[38;5;241m.\u001b[39msum()\n\u001b[1;32m---> 14\u001b[0m pd\u001b[38;5;241m.\u001b[39mread_csv()\n\u001b[0;32m     15\u001b[0m pd\u001b[38;5;241m.\u001b[39mconcat()\n\u001b[0;32m     16\u001b[0m df\u001b[38;5;241m.\u001b[39mdscribe()\n",
      "\u001b[1;31mTypeError\u001b[0m: read_csv() missing 1 required positional argument: 'filepath_or_buffer'"
     ]
    }
   ],
   "source": [
    "# Q1. List any five functions of the pandas library with execution.\\\n",
    "import pandas as pd\n",
    "\n",
    "data = {\n",
    "    'Name': ['Alice', 'Bob', 'Charlie'],\n",
    "    'Age': [25, 30, 35],\n",
    "    'City': ['New York', 'Los Angeles', 'Chicago']\n",
    "}\n",
    "df = pd.DataFrame(data)\n",
    "print(df)\n",
    "\n",
    "pd.isna(df)\n",
    "pd.isna(df).sum()\n",
    "pd.read_csv()\n",
    "pd.concat()\n",
    "df.dscribe()\n"
   ]
  },
  {
   "cell_type": "code",
   "execution_count": 4,
   "id": "b40dc35f-0d11-401e-9672-9df15a701b89",
   "metadata": {},
   "outputs": [
    {
     "data": {
      "text/html": [
       "<div>\n",
       "<style scoped>\n",
       "    .dataframe tbody tr th:only-of-type {\n",
       "        vertical-align: middle;\n",
       "    }\n",
       "\n",
       "    .dataframe tbody tr th {\n",
       "        vertical-align: top;\n",
       "    }\n",
       "\n",
       "    .dataframe thead th {\n",
       "        text-align: right;\n",
       "    }\n",
       "</style>\n",
       "<table border=\"1\" class=\"dataframe\">\n",
       "  <thead>\n",
       "    <tr style=\"text-align: right;\">\n",
       "      <th></th>\n",
       "      <th>0</th>\n",
       "      <th>1</th>\n",
       "      <th>2</th>\n",
       "    </tr>\n",
       "    <tr>\n",
       "      <th>new_index</th>\n",
       "      <th></th>\n",
       "      <th></th>\n",
       "      <th></th>\n",
       "    </tr>\n",
       "  </thead>\n",
       "  <tbody>\n",
       "    <tr>\n",
       "      <th>1</th>\n",
       "      <td>A</td>\n",
       "      <td>b</td>\n",
       "      <td>c</td>\n",
       "    </tr>\n",
       "    <tr>\n",
       "      <th>2</th>\n",
       "      <td>A</td>\n",
       "      <td>b</td>\n",
       "      <td>c</td>\n",
       "    </tr>\n",
       "    <tr>\n",
       "      <th>3</th>\n",
       "      <td>A</td>\n",
       "      <td>b</td>\n",
       "      <td>c</td>\n",
       "    </tr>\n",
       "  </tbody>\n",
       "</table>\n",
       "</div>"
      ],
      "text/plain": [
       "           0  1  2\n",
       "new_index         \n",
       "1          A  b  c\n",
       "2          A  b  c\n",
       "3          A  b  c"
      ]
     },
     "execution_count": 4,
     "metadata": {},
     "output_type": "execute_result"
    }
   ],
   "source": [
    "# Q2. Given a Pandas DataFrame df with columns 'A', 'B', and 'C', write a Python function to re-index theDataFrame with a new index that starts from 1 and increments by 2 for each row.\n",
    "dict1={0:\"A\",1:\"b\",2:\"c\"}\n",
    "dict1\n",
    "c=pd.DataFrame(dict1,index=[0,1,2])\n",
    "v=[1,2,3]\n",
    "c['new_index']=v\n",
    "c.set_index('new_index')"
   ]
  },
  {
   "cell_type": "code",
   "execution_count": 5,
   "id": "99b8b338-3ad0-4f0d-abd3-eed42795ba45",
   "metadata": {},
   "outputs": [
    {
     "data": {
      "text/plain": [
       "9"
      ]
     },
     "execution_count": 5,
     "metadata": {},
     "output_type": "execute_result"
    }
   ],
   "source": [
    "# Q3. You have a Pandas DataFrame df with a column named 'Values'. Write a Python function that iterates over the DataFrame and calculates the sum of the first three values in the 'Values' column. Thefunction should print the sum to the console.For example, if the 'Values' column of df contains the values [10, 20, 30, 40, 50], your function shouldcalculate and print the sum of the first three values, which is 60.\n",
    "l1=[2,3,4,5,6,7]\n",
    "dict1={\"Values\" : l1}\n",
    "df=pd.DataFrame(dict1)\n",
    "s=df[\"Values\"][:3]\n",
    "s.sum()"
   ]
  },
  {
   "cell_type": "code",
   "execution_count": 6,
   "id": "712c0d40-7178-452a-8fb3-af05c876d868",
   "metadata": {},
   "outputs": [
    {
     "name": "stdout",
     "output_type": "stream",
     "text": [
      "       text  word_count\n",
      "0     sajil           5\n",
      "1  hetmtyer           8\n"
     ]
    }
   ],
   "source": [
    "#Q4. Given a Pandas DataFrame df with a column 'Text', write a Python function to create a new column'Word_Count' that contains the number of words in each row of the 'Text' column.\n",
    "def pan():\n",
    "    dict1={\"text\":[\"sajil\",\"hetmtyer\"]}\n",
    "    df=pd.DataFrame(dict1)\n",
    "    df['word_count']=df[\"text\"].apply(lambda x : len(str(x)))\n",
    "    print(df)\n",
    "pan()"
   ]
  },
  {
   "cell_type": "code",
   "execution_count": 13,
   "id": "5465077f-2ddb-4230-b976-af20f517246f",
   "metadata": {},
   "outputs": [
    {
     "data": {
      "text/plain": [
       "(6, 1)"
      ]
     },
     "execution_count": 13,
     "metadata": {},
     "output_type": "execute_result"
    }
   ],
   "source": [
    "# Q5. How are DataFrame.size() and DataFrame.shape() different?\n",
    "df.size # pandas size function are used to determine size of dataframe\n",
    "\n",
    "df.shape # pandas shape functionb are used to determine shape of data frame\n"
   ]
  },
  {
   "cell_type": "code",
   "execution_count": 14,
   "id": "eba8380c-012c-467f-b377-a31be5965672",
   "metadata": {},
   "outputs": [
    {
     "data": {
      "text/plain": [
       "<function pandas.io.excel._base.read_excel(io, sheet_name: 'str | int | list[IntStrT] | None' = 0, *, header: 'int | Sequence[int] | None' = 0, names: 'SequenceNotStr[Hashable] | range | None' = None, index_col: 'int | str | Sequence[int] | None' = None, usecols: 'int | str | Sequence[int] | Sequence[str] | Callable[[str], bool] | None' = None, dtype: 'DtypeArg | None' = None, engine: \"Literal['xlrd', 'openpyxl', 'odf', 'pyxlsb', 'calamine'] | None\" = None, converters: 'dict[str, Callable] | dict[int, Callable] | None' = None, true_values: 'Iterable[Hashable] | None' = None, false_values: 'Iterable[Hashable] | None' = None, skiprows: 'Sequence[int] | int | Callable[[int], object] | None' = None, nrows: 'int | None' = None, na_values=None, keep_default_na: 'bool' = True, na_filter: 'bool' = True, verbose: 'bool' = False, parse_dates: 'list | dict | bool' = False, date_parser: 'Callable | lib.NoDefault' = <no_default>, date_format: 'dict[Hashable, str] | str | None' = None, thousands: 'str | None' = None, decimal: 'str' = '.', comment: 'str | None' = None, skipfooter: 'int' = 0, storage_options: 'StorageOptions | None' = None, dtype_backend: 'DtypeBackend | lib.NoDefault' = <no_default>, engine_kwargs: 'dict | None' = None) -> 'DataFrame | dict[IntStrT, DataFrame]'>"
      ]
     },
     "execution_count": 14,
     "metadata": {},
     "output_type": "execute_result"
    }
   ],
   "source": [
    "# Q6. Which function of pandas do we use to read an excel file?\n",
    "pd.read_excel"
   ]
  },
  {
   "cell_type": "code",
   "execution_count": 31,
   "id": "a095e96c-252a-4f25-b003-b55e7b697461",
   "metadata": {},
   "outputs": [
    {
     "name": "stdout",
     "output_type": "stream",
     "text": [
      "              email Username\n",
      "0  sahil@domain.com    sahil\n",
      "1   majil@gmail.com    majil\n",
      "2    tod@domail.com      tod\n"
     ]
    }
   ],
   "source": [
    "# Q7. You have a Pandas DataFrame df that contains a column named 'Email' that contains emailaddresses in the format 'username@domain.com'. Write a Python function that creates a new column'Username' in df that contains only the username part of each email address\n",
    "dict2={'email':[\"sahil@domain.com\",\"majil@gmail.com\",\"tod@domail.com\"]}\n",
    "def email(df):\n",
    "    df['Username']=df['email'].apply(lambda x : x.split(\"@\")[0])\n",
    "    print(df)\n",
    "email(pd.DataFrame(dict2))"
   ]
  },
  {
   "cell_type": "code",
   "execution_count": 83,
   "id": "047c59e2-6bbc-49d5-b6b3-547a18f1ac41",
   "metadata": {},
   "outputs": [
    {
     "data": {
      "text/html": [
       "<div>\n",
       "<style scoped>\n",
       "    .dataframe tbody tr th:only-of-type {\n",
       "        vertical-align: middle;\n",
       "    }\n",
       "\n",
       "    .dataframe tbody tr th {\n",
       "        vertical-align: top;\n",
       "    }\n",
       "\n",
       "    .dataframe thead th {\n",
       "        text-align: right;\n",
       "    }\n",
       "</style>\n",
       "<table border=\"1\" class=\"dataframe\">\n",
       "  <thead>\n",
       "    <tr style=\"text-align: right;\">\n",
       "      <th></th>\n",
       "      <th>a</th>\n",
       "      <th>b</th>\n",
       "      <th>c</th>\n",
       "    </tr>\n",
       "  </thead>\n",
       "  <tbody>\n",
       "    <tr>\n",
       "      <th>0</th>\n",
       "      <td>8</td>\n",
       "      <td>2</td>\n",
       "      <td>7</td>\n",
       "    </tr>\n",
       "    <tr>\n",
       "      <th>1</th>\n",
       "      <td>9</td>\n",
       "      <td>1</td>\n",
       "      <td>2</td>\n",
       "    </tr>\n",
       "  </tbody>\n",
       "</table>\n",
       "</div>"
      ],
      "text/plain": [
       "   a  b  c\n",
       "0  8  2  7\n",
       "1  9  1  2"
      ]
     },
     "execution_count": 83,
     "metadata": {},
     "output_type": "execute_result"
    }
   ],
   "source": [
    "#  Q8. You have a Pandas DataFrame df with columns 'A', 'B', and 'C'. Write a Python function that selects all rows where the value in column 'A' is greater than 5 and the value in column 'B' is less than 10. The function should return a new DataFrame that contains only the selected rows.\n",
    "\n",
    "def fl(df):\n",
    "    dff=df[(df[\"a\"]>5) & (df[\"b\"]<10)]\n",
    "    return dff\n",
    "dict3={\"a\": (8,9,10,1),\"b\":(2,1,10,1),\"c\":(7,2,10,1)}\n",
    "fl(pd.DataFrame(dict3))"
   ]
  },
  {
   "cell_type": "code",
   "execution_count": 7,
   "id": "f24ba593-e1ba-455c-9a50-f4113c649622",
   "metadata": {},
   "outputs": [
    {
     "data": {
      "text/html": [
       "<div>\n",
       "<style scoped>\n",
       "    .dataframe tbody tr th:only-of-type {\n",
       "        vertical-align: middle;\n",
       "    }\n",
       "\n",
       "    .dataframe tbody tr th {\n",
       "        vertical-align: top;\n",
       "    }\n",
       "\n",
       "    .dataframe thead th {\n",
       "        text-align: right;\n",
       "    }\n",
       "</style>\n",
       "<table border=\"1\" class=\"dataframe\">\n",
       "  <thead>\n",
       "    <tr style=\"text-align: right;\">\n",
       "      <th></th>\n",
       "      <th>Values</th>\n",
       "    </tr>\n",
       "  </thead>\n",
       "  <tbody>\n",
       "    <tr>\n",
       "      <th>count</th>\n",
       "      <td>5.000000</td>\n",
       "    </tr>\n",
       "    <tr>\n",
       "      <th>mean</th>\n",
       "      <td>3.000000</td>\n",
       "    </tr>\n",
       "    <tr>\n",
       "      <th>std</th>\n",
       "      <td>1.581139</td>\n",
       "    </tr>\n",
       "    <tr>\n",
       "      <th>min</th>\n",
       "      <td>1.000000</td>\n",
       "    </tr>\n",
       "    <tr>\n",
       "      <th>25%</th>\n",
       "      <td>2.000000</td>\n",
       "    </tr>\n",
       "    <tr>\n",
       "      <th>50%</th>\n",
       "      <td>3.000000</td>\n",
       "    </tr>\n",
       "    <tr>\n",
       "      <th>75%</th>\n",
       "      <td>4.000000</td>\n",
       "    </tr>\n",
       "    <tr>\n",
       "      <th>max</th>\n",
       "      <td>5.000000</td>\n",
       "    </tr>\n",
       "  </tbody>\n",
       "</table>\n",
       "</div>"
      ],
      "text/plain": [
       "         Values\n",
       "count  5.000000\n",
       "mean   3.000000\n",
       "std    1.581139\n",
       "min    1.000000\n",
       "25%    2.000000\n",
       "50%    3.000000\n",
       "75%    4.000000\n",
       "max    5.000000"
      ]
     },
     "execution_count": 7,
     "metadata": {},
     "output_type": "execute_result"
    }
   ],
   "source": [
    "#Q9 Q9. Given a Pandas DataFrame df with a column 'Values', write a Python function to calculate the mean,median, and standard deviation of the values in the 'Values' column.\n",
    "def v(df):\n",
    "    return df.describe()\n",
    "dict1={\"Values\":(1,2,3,4,5)}\n",
    "v(pd.DataFrame(dict1))"
   ]
  },
  {
   "cell_type": "code",
   "execution_count": 41,
   "id": "90e0568c-96ee-463d-bb47-5d9b51fa44c8",
   "metadata": {},
   "outputs": [
    {
     "data": {
      "text/html": [
       "<div>\n",
       "<style scoped>\n",
       "    .dataframe tbody tr th:only-of-type {\n",
       "        vertical-align: middle;\n",
       "    }\n",
       "\n",
       "    .dataframe tbody tr th {\n",
       "        vertical-align: top;\n",
       "    }\n",
       "\n",
       "    .dataframe thead th {\n",
       "        text-align: right;\n",
       "    }\n",
       "</style>\n",
       "<table border=\"1\" class=\"dataframe\">\n",
       "  <thead>\n",
       "    <tr style=\"text-align: right;\">\n",
       "      <th></th>\n",
       "      <th>sales</th>\n",
       "      <th>Date</th>\n",
       "      <th>average</th>\n",
       "    </tr>\n",
       "  </thead>\n",
       "  <tbody>\n",
       "    <tr>\n",
       "      <th>0</th>\n",
       "      <td>2</td>\n",
       "      <td>2023-02-02</td>\n",
       "      <td>2.0</td>\n",
       "    </tr>\n",
       "    <tr>\n",
       "      <th>1</th>\n",
       "      <td>3</td>\n",
       "      <td>2023-02-03</td>\n",
       "      <td>2.5</td>\n",
       "    </tr>\n",
       "    <tr>\n",
       "      <th>2</th>\n",
       "      <td>4</td>\n",
       "      <td>2023-02-04</td>\n",
       "      <td>3.0</td>\n",
       "    </tr>\n",
       "    <tr>\n",
       "      <th>3</th>\n",
       "      <td>5</td>\n",
       "      <td>2023-02-05</td>\n",
       "      <td>3.5</td>\n",
       "    </tr>\n",
       "    <tr>\n",
       "      <th>4</th>\n",
       "      <td>6</td>\n",
       "      <td>2023-02-06</td>\n",
       "      <td>4.0</td>\n",
       "    </tr>\n",
       "    <tr>\n",
       "      <th>5</th>\n",
       "      <td>7</td>\n",
       "      <td>2023-02-07</td>\n",
       "      <td>4.5</td>\n",
       "    </tr>\n",
       "    <tr>\n",
       "      <th>6</th>\n",
       "      <td>8</td>\n",
       "      <td>2023-02-08</td>\n",
       "      <td>5.0</td>\n",
       "    </tr>\n",
       "  </tbody>\n",
       "</table>\n",
       "</div>"
      ],
      "text/plain": [
       "   sales       Date  average\n",
       "0      2 2023-02-02      2.0\n",
       "1      3 2023-02-03      2.5\n",
       "2      4 2023-02-04      3.0\n",
       "3      5 2023-02-05      3.5\n",
       "4      6 2023-02-06      4.0\n",
       "5      7 2023-02-07      4.5\n",
       "6      8 2023-02-08      5.0"
      ]
     },
     "execution_count": 41,
     "metadata": {},
     "output_type": "execute_result"
    }
   ],
   "source": [
    "#10. Given a Pandas DataFrame df with a column 'Sales' and a column 'Date', write a Python function tocreate a new column 'MovingAverage' that contains the moving average of the sales for the past 7 daysfor each row in the DataFrame. The moving average should be calculated using a window of size 7 andshould include the current day.\n",
    "dict4={\"sales\": [2,3,4,5,6,7,8],\"Date\": [\"2023-2-2\",\"2023-2-3\",\"2023-2-4\",\"2023-2-5\",\"2023-2-6\",\"2023-2-7\",\"2023-2-8\"]}\n",
    "\n",
    "def d(df):\n",
    "    df[\"Date\"]=pd.to_datetime(df[\"Date\"])\n",
    "    df=df.sort_values(\"Date\")\n",
    "    df[\"average\"]=df[\"sales\"].rolling(window=7,min_periods=1).mean()\n",
    "    return df\n",
    "    \n",
    "s=d(pd.DataFrame(dict4))\n",
    "s"
   ]
  },
  {
   "cell_type": "code",
   "execution_count": 34,
   "id": "1fae1eca-87b6-4c9a-bd4d-dcbf96b1fd0a",
   "metadata": {},
   "outputs": [
    {
     "data": {
      "text/html": [
       "<div>\n",
       "<style scoped>\n",
       "    .dataframe tbody tr th:only-of-type {\n",
       "        vertical-align: middle;\n",
       "    }\n",
       "\n",
       "    .dataframe tbody tr th {\n",
       "        vertical-align: top;\n",
       "    }\n",
       "\n",
       "    .dataframe thead th {\n",
       "        text-align: right;\n",
       "    }\n",
       "</style>\n",
       "<table border=\"1\" class=\"dataframe\">\n",
       "  <thead>\n",
       "    <tr style=\"text-align: right;\">\n",
       "      <th></th>\n",
       "      <th>Date</th>\n",
       "      <th>weekday</th>\n",
       "    </tr>\n",
       "  </thead>\n",
       "  <tbody>\n",
       "    <tr>\n",
       "      <th>0</th>\n",
       "      <td>2023-2-2</td>\n",
       "      <td>Thursday</td>\n",
       "    </tr>\n",
       "    <tr>\n",
       "      <th>1</th>\n",
       "      <td>2023-2-3</td>\n",
       "      <td>Friday</td>\n",
       "    </tr>\n",
       "    <tr>\n",
       "      <th>2</th>\n",
       "      <td>2023-2-4</td>\n",
       "      <td>Saturday</td>\n",
       "    </tr>\n",
       "    <tr>\n",
       "      <th>3</th>\n",
       "      <td>2023-2-5</td>\n",
       "      <td>Sunday</td>\n",
       "    </tr>\n",
       "    <tr>\n",
       "      <th>4</th>\n",
       "      <td>2023-2-6</td>\n",
       "      <td>Monday</td>\n",
       "    </tr>\n",
       "    <tr>\n",
       "      <th>5</th>\n",
       "      <td>2023-2-7</td>\n",
       "      <td>Tuesday</td>\n",
       "    </tr>\n",
       "    <tr>\n",
       "      <th>6</th>\n",
       "      <td>2023-2-8</td>\n",
       "      <td>Wednesday</td>\n",
       "    </tr>\n",
       "  </tbody>\n",
       "</table>\n",
       "</div>"
      ],
      "text/plain": [
       "       Date    weekday\n",
       "0  2023-2-2   Thursday\n",
       "1  2023-2-3     Friday\n",
       "2  2023-2-4   Saturday\n",
       "3  2023-2-5     Sunday\n",
       "4  2023-2-6     Monday\n",
       "5  2023-2-7    Tuesday\n",
       "6  2023-2-8  Wednesday"
      ]
     },
     "execution_count": 34,
     "metadata": {},
     "output_type": "execute_result"
    }
   ],
   "source": [
    "##Q11. You have a Pandas DataFrame df with a column 'Date'. Write a Python function that creates a newcolumn 'Weekday' in the DataFrame. The 'Weekday' column should contain the weekday name (e.g.Monday, Tuesday) corresponding to each date in the 'Date' column.\n",
    "from datetime import datetime  \n",
    "import pandas as pd\n",
    "dict5={\"Date\":[\"2023-2-2\",\"2023-2-3\",\"2023-2-4\",\"2023-2-5\",\"2023-2-6\",\"2023-2-7\",\"2023-2-8\"]}\n",
    "def wed(df): \n",
    "    df[\"weekday\"]=pd.to_datetime(df[\"Date\"]).dt.strftime(\"%A\")\n",
    "    return df\n",
    "s=wed(pd.DataFrame(dict5))\n",
    "s"
   ]
  },
  {
   "cell_type": "code",
   "execution_count": 58,
   "id": "a59ce501-7753-4715-b9ed-5271fd3823ad",
   "metadata": {},
   "outputs": [
    {
     "data": {
      "text/plain": [
       "DatetimeIndex(['2023-01-01', '2023-01-02', '2023-01-03', '2023-01-04',\n",
       "               '2023-01-05', '2023-01-06', '2023-01-07', '2023-01-08',\n",
       "               '2023-01-09', '2023-01-10', '2023-01-11', '2023-01-12',\n",
       "               '2023-01-13', '2023-01-14', '2023-01-15', '2023-01-16',\n",
       "               '2023-01-17', '2023-01-18', '2023-01-19', '2023-01-20',\n",
       "               '2023-01-21', '2023-01-22', '2023-01-23', '2023-01-24',\n",
       "               '2023-01-25', '2023-01-26', '2023-01-27', '2023-01-28',\n",
       "               '2023-01-29', '2023-01-30', '2023-01-31'],\n",
       "              dtype='datetime64[ns]', freq='D')"
      ]
     },
     "execution_count": 58,
     "metadata": {},
     "output_type": "execute_result"
    }
   ],
   "source": [
    "#Q12 Q12. Given a Pandas DataFrame df with a column 'Date' that contains timestamps, write a Python function to select all rows where the date is between '2023-01-01' and '2023-01-31'.\n",
    "def t(df):\n",
    "    df=pd.date_range(start=\"2023-01-01\",end= \"2023-01-31\",freq=\"D\")\n",
    "    return df\n",
    "s=t(pd.DataFrame(df))\n",
    "s"
   ]
  },
  {
   "cell_type": "markdown",
   "id": "ae29d525-d247-4793-8013-0f068e6506bc",
   "metadata": {},
   "source": [
    "#Q13. To use the basic functions of pandas, what is the first and foremost necessary library that needs tobe imported?\n",
    "\n",
    "To use the basic functions of pandas, the first and foremost necessary library to import is pandas itself. Typically, it is imported as:\n",
    "import pandas as pd"
   ]
  }
 ],
 "metadata": {
  "kernelspec": {
   "display_name": "Python 3 (ipykernel)",
   "language": "python",
   "name": "python3"
  },
  "language_info": {
   "codemirror_mode": {
    "name": "ipython",
    "version": 3
   },
   "file_extension": ".py",
   "mimetype": "text/x-python",
   "name": "python",
   "nbconvert_exporter": "python",
   "pygments_lexer": "ipython3",
   "version": "3.12.7"
  }
 },
 "nbformat": 4,
 "nbformat_minor": 5
}
